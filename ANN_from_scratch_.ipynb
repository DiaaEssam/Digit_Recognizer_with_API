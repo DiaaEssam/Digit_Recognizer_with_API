{
  "cells": [
    {
      "cell_type": "markdown",
      "metadata": {
        "id": "view-in-github",
        "colab_type": "text"
      },
      "source": [
        "<a href=\"https://colab.research.google.com/github/DiaaEssam/Digit_Recognizer_with_API/blob/master/ANN_from_scratch_.ipynb\" target=\"_parent\"><img src=\"https://colab.research.google.com/assets/colab-badge.svg\" alt=\"Open In Colab\"/></a>"
      ]
    },
    {
      "cell_type": "markdown",
      "metadata": {
        "id": "LyPqZRJO-Oi2"
      },
      "source": [
        "# Importing Libraries"
      ]
    },
    {
      "cell_type": "code",
      "execution_count": null,
      "metadata": {
        "colab": {
          "base_uri": "https://localhost:8080/"
        },
        "id": "tifpZDxG0U7T",
        "outputId": "5d00b704-27fd-419c-c9c1-0466e877b058"
      },
      "outputs": [
        {
          "output_type": "execute_result",
          "data": {
            "text/plain": [
              "{'divide': 'warn', 'over': 'warn', 'under': 'ignore', 'invalid': 'warn'}"
            ]
          },
          "metadata": {},
          "execution_count": 1
        }
      ],
      "source": [
        "import numpy as np\n",
        "import pandas as pd\n",
        "import matplotlib.pyplot as plt\n",
        "from keras.datasets import mnist\n",
        "import tensorflow as tf\n",
        "tf.test.gpu_device_name()\n",
        "np.seterr(over='ignore')"
      ]
    },
    {
      "cell_type": "markdown",
      "metadata": {
        "id": "dOIsaqeP-VvG"
      },
      "source": [
        "# Loading MNIST Dataset"
      ]
    },
    {
      "cell_type": "code",
      "execution_count": null,
      "metadata": {
        "id": "GGd-IRay-Ii7",
        "colab": {
          "base_uri": "https://localhost:8080/"
        },
        "outputId": "a89c6655-9554-4cff-f8cc-31869a9c9193"
      },
      "outputs": [
        {
          "output_type": "stream",
          "name": "stdout",
          "text": [
            "Downloading data from https://storage.googleapis.com/tensorflow/tf-keras-datasets/mnist.npz\n",
            "11490434/11490434 [==============================] - 2s 0us/step\n"
          ]
        }
      ],
      "source": [
        "(X_train, y_train), (X_test, y_test) = mnist.load_data()"
      ]
    },
    {
      "cell_type": "markdown",
      "source": [
        "# Applying One Hot Encodeing for labels"
      ],
      "metadata": {
        "id": "IR7JkF4XsNMi"
      }
    },
    {
      "cell_type": "code",
      "source": [
        "\"\"\"num_classes=len(np.unique(y_train))\n",
        "y_train=np.array([np.insert(np.zeros(num_classes-1),i,1) for i in y_train]).astype(int) another way implemented by me\"\"\"\n",
        "\n",
        "from sklearn.preprocessing import OneHotEncoder\n",
        "\n",
        "enc = OneHotEncoder()\n",
        "y_train=enc.fit_transform(y_train.reshape(y_train.shape[0],1)).toarray().astype(int)\n",
        "y_test=enc.transform(y_test.reshape(y_test.shape[0],1)).toarray().astype(int)\n",
        "\n",
        "print(y_train.shape)\n",
        "print(y_train[0])\n",
        "print(y_test.shape)\n",
        "print(y_test[0])"
      ],
      "metadata": {
        "colab": {
          "base_uri": "https://localhost:8080/"
        },
        "id": "EThUYu2sY7h-",
        "outputId": "801cd403-7084-470b-e36c-211d164fb1a7"
      },
      "execution_count": null,
      "outputs": [
        {
          "output_type": "stream",
          "name": "stdout",
          "text": [
            "(60000, 10)\n",
            "[0 0 0 0 0 1 0 0 0 0]\n",
            "(10000, 10)\n",
            "[0 0 0 0 0 0 0 1 0 0]\n"
          ]
        }
      ]
    },
    {
      "cell_type": "markdown",
      "metadata": {
        "id": "NLhxW1OG_LBC"
      },
      "source": [
        "# Visualizing some of The Data"
      ]
    },
    {
      "cell_type": "code",
      "execution_count": null,
      "metadata": {
        "colab": {
          "base_uri": "https://localhost:8080/",
          "height": 433
        },
        "id": "t4asSvtF-TKt",
        "outputId": "19910dbb-a77f-4662-be86-493c5b4eb29a"
      },
      "outputs": [
        {
          "output_type": "display_data",
          "data": {
            "text/plain": [
              "<Figure size 640x480 with 9 Axes>"
            ],
            "image/png": "[encoded data removed]"
          },
          "metadata": {}
        }
      ],
      "source": [
        "for i in range(9):\n",
        "  plt.subplot(330 + 1 + i)\n",
        "  plt.imshow(X_train[i], cmap=plt.get_cmap('gray'))\n",
        "plt.show()"
      ]
    },
    {
      "cell_type": "markdown",
      "metadata": {
        "id": "RAsr_mZx-bfr"
      },
      "source": [
        "# Transforming The Dimensions"
      ]
    },
    {
      "cell_type": "code",
      "execution_count": null,
      "metadata": {
        "colab": {
          "base_uri": "https://localhost:8080/"
        },
        "id": "iSs-MKw_-c5F",
        "outputId": "7762fdf6-0071-467a-f704-59310bf584f2"
      },
      "outputs": [
        {
          "output_type": "stream",
          "name": "stdout",
          "text": [
            "[[0. 0. 0. ... 0. 0. 0.]\n",
            " [0. 0. 0. ... 0. 0. 0.]\n",
            " [0. 0. 0. ... 0. 0. 0.]\n",
            " ...\n",
            " [0. 0. 0. ... 0. 0. 0.]\n",
            " [0. 0. 0. ... 0. 0. 0.]\n",
            " [0. 0. 0. ... 0. 0. 0.]]\n"
          ]
        }
      ],
      "source": [
        "X_train = X_train.astype('float32')\n",
        "X_test = X_test.astype('float32')\n",
        "\n",
        "X_train=X_train.reshape(X_train.shape[0],-1)\n",
        "X_test=X_test.reshape(X_test.shape[0],-1)\n",
        "print(X_train)"
      ]
    },
    {
      "cell_type": "code",
      "execution_count": null,
      "metadata": {
        "colab": {
          "base_uri": "https://localhost:8080/"
        },
        "id": "E-AesVKU-Ms6",
        "outputId": "4a7281e3-014d-4521-8267-f43b68951b11"
      },
      "outputs": [
        {
          "output_type": "stream",
          "name": "stdout",
          "text": [
            "X_train: (60000, 784)\n",
            "Y_train: (60000, 10)\n",
            "X_test:  (10000, 784)\n",
            "Y_test:  (10000, 10)\n"
          ]
        }
      ],
      "source": [
        "print('X_train: ' + str(X_train.shape))\n",
        "print('Y_train: ' + str(y_train.shape))\n",
        "print('X_test:  '  + str(X_test.shape))\n",
        "print('Y_test:  '  + str(y_test.shape))"
      ]
    },
    {
      "cell_type": "markdown",
      "metadata": {
        "id": "vchqJ-h5_VLX"
      },
      "source": [
        "# Standardizing The Data"
      ]
    },
    {
      "cell_type": "code",
      "execution_count": null,
      "metadata": {
        "id": "34rMdf5Z8zHI"
      },
      "outputs": [],
      "source": [
        "def normalize(X):\n",
        "  return X/255.0 # we need epsilon for feature (pixel) that has zero variance"
      ]
    },
    {
      "cell_type": "code",
      "source": [
        "X_train=normalize(X_train)\n",
        "X_test=normalize(X_test)"
      ],
      "metadata": {
        "id": "Q9JTBiyqyoRC"
      },
      "execution_count": null,
      "outputs": []
    },
    {
      "cell_type": "markdown",
      "metadata": {
        "id": "LXDQQG1__mxa"
      },
      "source": [
        "# Shuffle Function"
      ]
    },
    {
      "cell_type": "code",
      "execution_count": null,
      "metadata": {
        "id": "RRaAlafLpTtV"
      },
      "outputs": [],
      "source": [
        "def Shuffle(X,y):\n",
        "  # Storing indeces of data\n",
        "  indices = np.arange(X.shape[0])\n",
        "  # Shuffling the indeces\n",
        "  np.random.shuffle(indices)\n",
        "  # update the data and target with the new shuffled indeces\n",
        "  X = X[indices]\n",
        "  y = y[indices]\n",
        "  return X,y"
      ]
    },
    {
      "cell_type": "code",
      "source": [
        "X_train,y_train=Shuffle(X_train,y_train)"
      ],
      "metadata": {
        "id": "GAlG62dJkBpo"
      },
      "execution_count": null,
      "outputs": []
    },
    {
      "cell_type": "markdown",
      "metadata": {
        "id": "RMY6fej8AZc9"
      },
      "source": [
        "# Accuracy Function"
      ]
    },
    {
      "cell_type": "code",
      "execution_count": null,
      "metadata": {
        "id": "9lvpVJHlAex9"
      },
      "outputs": [],
      "source": [
        "def Accuracy(y_pred,y_test):\n",
        "    # argmax returns the index of the maximum element in a numpy array\n",
        "    Acc=np.mean(np.argmax(y_test, axis=1) == np.argmax(y_pred, axis=1),axis=0) * 100\n",
        "    return round(Acc,1)"
      ]
    },
    {
      "cell_type": "markdown",
      "metadata": {
        "id": "basOFCu1BzrN"
      },
      "source": [
        "# Error Function"
      ]
    },
    {
      "cell_type": "code",
      "execution_count": null,
      "metadata": {
        "id": "L1BMRDhxB3Gx"
      },
      "outputs": [],
      "source": [
        "def Error(y_pred,y_test):\n",
        "  return  (1/(2*y_test.shape[0])) * np.sum((y_pred-y_test)**2)"
      ]
    },
    {
      "cell_type": "markdown",
      "metadata": {
        "id": "E9TMd5LyEkwd"
      },
      "source": [
        "# Sigmoid Function"
      ]
    },
    {
      "cell_type": "code",
      "execution_count": null,
      "metadata": {
        "id": "MGDhlTs8Enpr"
      },
      "outputs": [],
      "source": [
        "def sigmoid(z):\n",
        "    return 1.0/(1.0+np.exp(-z))"
      ]
    },
    {
      "cell_type": "markdown",
      "source": [
        "# Softmax Function"
      ],
      "metadata": {
        "id": "IV7m8b9kWpTA"
      }
    },
    {
      "cell_type": "code",
      "execution_count": null,
      "metadata": {
        "id": "_gh6jPffx4hE"
      },
      "outputs": [],
      "source": [
        "def softmax(Z):\n",
        "  # Divides the exponent of Z on the sum of each row vector\n",
        "  Z=np.exp(Z)/np.sum(np.exp(Z),axis=1,keepdims=True)\n",
        "  return Z"
      ]
    },
    {
      "cell_type": "markdown",
      "source": [
        "# Relu Derivative"
      ],
      "metadata": {
        "id": "4-mJgswY162a"
      }
    },
    {
      "cell_type": "code",
      "source": [
        "def der_Relu(A):\n",
        "  A[A<0]=0\n",
        "  A[A>=0]=1\n",
        "  return A"
      ],
      "metadata": {
        "id": "7fw_mI-S2Ar5"
      },
      "execution_count": null,
      "outputs": []
    },
    {
      "cell_type": "markdown",
      "source": [
        "# Layer_Size Function"
      ],
      "metadata": {
        "id": "z8RqsJQkl47s"
      }
    },
    {
      "cell_type": "code",
      "source": [
        "def layer_sizes(X,y,size_of_layers):\n",
        "    # Inserts the size of the input layer at the start of the array\n",
        "    size_of_layers.insert(0,X.shape[1])\n",
        "    return size_of_layers"
      ],
      "metadata": {
        "id": "YHBxKpMnl2_6"
      },
      "execution_count": null,
      "outputs": []
    },
    {
      "cell_type": "code",
      "source": [
        "L_sizes=layer_sizes(X_train,y_train,[20,10])"
      ],
      "metadata": {
        "id": "JyuJmmKV1Si-"
      },
      "execution_count": null,
      "outputs": []
    },
    {
      "cell_type": "markdown",
      "source": [
        "# Printing shapes"
      ],
      "metadata": {
        "id": "B4S1H7xQVQbJ"
      }
    },
    {
      "cell_type": "code",
      "source": [
        "def Print_shapes(container,param):\n",
        "  if param:\n",
        "    # Prints each W and each b between the layers\n",
        "    print('L',['layer '+str(i) for i in range(len(container[\"W\"])+1)])\n",
        "    print('W',[container['W'][i].shape for i in range(len(container[\"W\"]))])\n",
        "    print('b',[container['b'][i].shape for i in range(len(container[\"W\"]))])\n",
        "  else:\n",
        "    # Prints each dW and each db between the layers\n",
        "    print('L',['layer '+str(i) for i in range(len(container[\"dW\"])+1)])\n",
        "    print('dW',[container['dW'][i].shape for i in range(len(container[\"dW\"]))])\n",
        "    print('db',[container['db'][i].shape for i in range(len(container[\"dW\"]))])"
      ],
      "metadata": {
        "id": "DU29xgeFVVea"
      },
      "execution_count": null,
      "outputs": []
    },
    {
      "cell_type": "markdown",
      "source": [
        "#Initializing the model's parameters"
      ],
      "metadata": {
        "id": "uwRnfuPhsu5Y"
      }
    },
    {
      "cell_type": "code",
      "source": [
        "def initialize_parameters(L_sizes):\n",
        "    W=[]\n",
        "    b=[]\n",
        "    # Inialize W to be size of next layer by size of current layer, Inialize b to be size of next layer by 1\n",
        "    for i in range(len(L_sizes)-1):\n",
        "      W.append(np.random.randn(L_sizes[i+1],L_sizes[i]))\n",
        "      b.append(np.zeros((L_sizes[i+1],1)))\n",
        "\n",
        "    parameters = {\n",
        "        'W':W,\n",
        "        'b':b\n",
        "    }\n",
        "\n",
        "    Print_shapes(parameters,True)\n",
        "\n",
        "    return parameters"
      ],
      "metadata": {
        "id": "s6IAPi9SstDD"
      },
      "execution_count": null,
      "outputs": []
    },
    {
      "cell_type": "markdown",
      "source": [
        "# Forward propagation"
      ],
      "metadata": {
        "id": "QG0A7zlLDx_w"
      }
    },
    {
      "cell_type": "code",
      "source": [
        "def forward_propagation(X, parameters,Tanh,Relu):\n",
        "\n",
        "    Z=[]\n",
        "    A=[]\n",
        "\n",
        "    for i in range(len(parameters[\"W\"])):\n",
        "                                                                  # if we are at the first layer then we use X, O.W. we use A[L-1]\n",
        "      Z.append(np.dot(parameters[\"W\"][i],X.T) + parameters[\"b\"][i]) if i==0 else Z.append(np.dot(parameters[\"W\"][i],A[i-1]) + parameters[\"b\"][i])\n",
        "      if Tanh:\n",
        "        A.append(sigmoid(Z[i])) if i==len(parameters[\"W\"])-1 else A.append(np.tanh(Z[i]))\n",
        "      if Relu:\n",
        "        A.append(sigmoid(Z[i])) if i==len(parameters[\"W\"])-1 else A.append(np.maximum(0,Z[i]))\n",
        "      if (not Tanh) and (not Relu):                                                                                       # we check here if we can use dot product properly or do we need to transpose one of the arrays so the dot product could work\n",
        "        A.append(sigmoid(Z[i]))\n",
        "\n",
        "\n",
        "    cache = {\n",
        "        'Z':Z,\n",
        "        'A':A\n",
        "    }\n",
        "\n",
        "\n",
        "    return cache"
      ],
      "metadata": {
        "id": "GsszkiyfDwLW"
      },
      "execution_count": null,
      "outputs": []
    },
    {
      "cell_type": "markdown",
      "source": [
        "# Backward Propagation"
      ],
      "metadata": {
        "id": "zqyRUYIwzTSz"
      }
    },
    {
      "cell_type": "code",
      "source": [
        "def backward_propagation(parameters, cache, X, y,print_once,Tanh,Relu):\n",
        "\n",
        "    dZ=[]\n",
        "    dW=[]\n",
        "    db=[]\n",
        "    j=0\n",
        "\n",
        "    # we will move backward so I reversed the direction of the iterator by giving (no. layer-1, -1 which will make the iterator stop at 0,-1 which is responsible for reversing the direction)\n",
        "    for i in range(len(parameters[\"W\"])-1,-1,-1):\n",
        "    # if last layer then compute dL/dZ = A[L] - y\n",
        "      if i==len(parameters[\"W\"])-1:\n",
        "        dZ.append(cache['A'][i].T-y)\n",
        "    # else compute dL/dZ[L] = W[L+1] * dL/dZ[L+1] * dA/dZ[L], where dA/dZ[L] = A[L] * (1 - A[L])\n",
        "      else:\n",
        "        if Tanh:                                                                      # we check here if we can use dot product properly or do we need to transpose one of the arrays so the dot product could work\n",
        "          dZ.append(np.dot(parameters[\"W\"][i+1].T,dZ[j-1].T) * (1 - cache[\"A\"][i]**2)) if parameters[\"W\"][i+1].T.shape[1]==dZ[j-1].T.shape[0] else dZ.append(np.dot(parameters[\"W\"][i+1].T,dZ[j-1]) * (1 - cache[\"A\"][i]**2))\n",
        "        if Relu:\n",
        "          dZ.append(np.dot(parameters[\"W\"][i+1].T,dZ[j-1].T) * der_Relu(cache[\"A\"][i])) if parameters[\"W\"][i+1].T.shape[1]==dZ[j-1].T.shape[0] else dZ.append(np.dot(parameters[\"W\"][i+1].T,dZ[j-1]) * der_Relu(cache[\"A\"][i]))\n",
        "        if (not Tanh) and (not Relu):                                                                                       # we check here if we can use dot product properly or do we need to transpose one of the arrays so the dot product could work\n",
        "          dZ.append(np.dot(parameters[\"W\"][i+1].T,dZ[j-1].T) * (cache[\"A\"][i] * (1 - cache[\"A\"][i]))) if parameters[\"W\"][i+1].T.shape[1]==dZ[j-1].T.shape[0] else dZ.append(np.dot(parameters[\"W\"][i+1].T,dZ[j-1]) * (cache[\"A\"][i] * (1 - cache[\"A\"][i])))\n",
        "    # if first layer then compute dL/dW[L] = dL/dZ[L] * X\n",
        "      if i==0:\n",
        "        dW.append(1/y.shape[0] * np.dot(dZ[j],X))\n",
        "    # else compute dL/dW[L] = dL/dZ[L] * A[L-1]\n",
        "      else:                                                         # we check here if we can use dot product properly or do we need to transpose one of the arrays so the dot product could work\n",
        "        dW.append(1/y.shape[0] * np.dot(dZ[j].T,cache['A'][i-1].T))  if dZ[j].T.shape[1]==cache['A'][i-1].T.shape[0] else  dW.append(1/y.shape[0] * np.dot(dZ[j],cache['A'][i-1].T))\n",
        "                                                                    # we make sure that the size of db be the same as b not (60000,1)\n",
        "      db.append(1/y.shape[0] * np.sum(dZ[j],axis=1,keepdims=True)) if np.sum(dZ[j],axis=1,keepdims=True).shape[0]!=X.shape[0] else db.append(1/y.shape[0] * np.sum(dZ[j].T,axis=1,keepdims=True))\n",
        "\n",
        "      j+=1\n",
        "\n",
        "    grads = {\n",
        "        'dW':dW,\n",
        "        'db':db\n",
        "    }\n",
        "\n",
        "    Print_shapes(grads,False) if print_once else \"\"\n",
        "\n",
        "    return grads"
      ],
      "metadata": {
        "id": "yVjGgrIYZC65"
      },
      "execution_count": null,
      "outputs": []
    },
    {
      "cell_type": "markdown",
      "source": [
        "# Initializing RMS parameters"
      ],
      "metadata": {
        "id": "qKhHDa0rjXjW"
      }
    },
    {
      "cell_type": "code",
      "source": [
        "def Initialize_RMS(beta,epsilon,Vdw,vdb):\n",
        "  return beta,epsilon,Vdw,vdb"
      ],
      "metadata": {
        "id": "vpXsrTcSjcua"
      },
      "execution_count": null,
      "outputs": []
    },
    {
      "cell_type": "markdown",
      "source": [
        "#Initializing Adam parameters"
      ],
      "metadata": {
        "id": "UdysXYG8NnHt"
      }
    },
    {
      "cell_type": "code",
      "source": [
        "def Initialize_Adam(beta1,beta2,epsilon,Vdw,Sdw,Vdb,Sdb):\n",
        "  return beta1,beta2,epsilon,Vdw,Sdw,Vdb,Sdb"
      ],
      "metadata": {
        "id": "Apacv4mLNtJh"
      },
      "execution_count": null,
      "outputs": []
    },
    {
      "cell_type": "markdown",
      "source": [
        "# RMS Function"
      ],
      "metadata": {
        "id": "ovuMF5etexNi"
      }
    },
    {
      "cell_type": "code",
      "source": [
        "def RMS(beta,epsilon,t,W,b,dw,db,VdW,Vdb,LR):\n",
        "  \"\"\"\n",
        "  -The RMSProp (Root Mean Square Propagation)\n",
        "  -The RMSProp optimizer works by maintaining a moving average of the squared gradient for each weight\n",
        "  -The RMSProp optimizer uses a decay rate/beta hyperparameter to control the weighting of past and current gradients.\n",
        "  -This decay rate determines how much weight is given to the most recent gradient compared to the historical gradients.\n",
        "  -A larger decay rate means that the moving average will be more heavily influenced by the historical gradients,\n",
        "  -while a smaller decay rate means that the moving average will be more influenced by the most recent gradient.\n",
        "  \"\"\"\n",
        "\n",
        "  \"\"\"\n",
        "  -Vdw is the moving average of the squared gradients of the weights, and Vdb is the moving average of the squared gradients of the biases.\n",
        "  -These moving averages are used to adjust the learning rate during training, with the goal of improving the convergence of the optimization algorithm.\n",
        "  \"\"\"\n",
        "\n",
        "  \"\"\"\n",
        "  -The letter \"V\" in Vdw and Vdb stands for \"variance\". In the context of the RMSProp optimizer, Vdw and Vdb represent the variance of the gradients of the weights and biases, respectively.\n",
        "  -The use of variance in the RMSProp optimizer is based on the intuition that the variance of the gradients can provide information about the scale of the gradients.\n",
        "  -If the variance of the gradients is high, it suggests that the gradients are large and the learning rate should be reduced to prevent overshooting the minimum. Conversely,\n",
        "  -if the variance of the gradients is low, it suggests that the gradients are small and the learning rate can be increased to speed up convergence.\n",
        "  \"\"\"\n",
        "  VdW = ((beta * VdW) + ((1 - beta) * (dw**2))) / (1 - beta**t + epsilon)\n",
        "  Vdb = ((beta * Vdb) + ((1 - beta) * (db**2))) / (1 - beta**t + epsilon)\n",
        "  W = W - (LR * (dw/(np.sqrt(VdW) + epsilon)))\n",
        "  b = b - (LR * (db/(np.sqrt(Vdb) + epsilon)))\n",
        "  return W,b\n"
      ],
      "metadata": {
        "id": "NP8-yozyezq3"
      },
      "execution_count": null,
      "outputs": []
    },
    {
      "cell_type": "markdown",
      "source": [
        "#Adam Functon"
      ],
      "metadata": {
        "id": "ZDu8o03K_IIg"
      }
    },
    {
      "cell_type": "code",
      "source": [
        "def Adam(beta1,beta2,t,epsilon,W,b,dw,db,VdW,SdW,Vdb,Sdb,eta):\n",
        "  \"\"\"\n",
        "  -The Adam (Adaptive Moment Estimation) optimizer is a popular optimization algorithm used in deep learning.\n",
        "  -It is an adaptive learning rate optimization algorithm that combines the benefits of two other optimization algorithms, RMSProp and momentum.\n",
        "  \"\"\"\n",
        "\n",
        "  \"\"\"\n",
        "  -The Adam optimizer works by maintaining a moving average of the gradients and the squared gradients of the weights\n",
        "  -VdW = beta1 * VdW + (1 - beta1) * dL/dw\n",
        "  -SdW = beta2 * SdW + (1 - beta2) * (dL/dw)^2\n",
        "  -VdW_corrected = VdW_corrected / (1 - beta1^t)\n",
        "  -SdW_corrected = SdW_corrected / (1 - beta2^t)\n",
        "  -w = w - alpha * VdW_corrected / (sqrt(SdW_corrected) + epsilon)\n",
        "  -the same for b\n",
        "  \"\"\"\n",
        "\n",
        "  \"\"\"\n",
        "  -beta1 and beta2 are hyperparameters\n",
        "  Set β1=0, means that ADAM behaves exactly as RMSprop optimizer\n",
        "  Set β2=0, means that ADAM behaves exactly as Momentum optimizer\n",
        "  \"\"\"\n",
        "  VdW= (beta1 * VdW) + ((1 - beta1) * dw)    # Momentum\n",
        "  Vdb= (beta1 * Vdb) + ((1 - beta1) * db)    # Momentum\n",
        "  SdW= (beta2 * SdW) + ((1 - beta2) * dw**2) # RMS, represents variance that will be square rooted soon\n",
        "  Sdb= (beta2 * Sdb) + ((1 - beta2) * db**2) # RMS, represents variance that will be square rooted soon\n",
        "  \"\"\"\n",
        "  -The bias correction step helps to ensure that the moving averages are unbiased estimates of the true first and second moments of the gradients.\n",
        "  -Without the bias correction step, the moving averages would be biased towards zero, which could lead to slower convergence or suboptimal performance.\n",
        "  \"\"\"\n",
        "  VdW_corrected= VdW/(1 - beta1**t + epsilon) # bias correction\n",
        "  Vdb_corrected= Vdb/(1 - beta1**t + epsilon) # bias correction\n",
        "  SdW_corrected= SdW/(1 - beta2**t + epsilon) # bias correction\n",
        "  Sdb_corrected= Sdb/(1 - beta2**t + epsilon) # bias correction\n",
        "\n",
        "  W = W - eta * (VdW_corrected/np.sqrt(SdW_corrected + epsilon)) # SdW_corrected is standard deviation here\n",
        "  b = b - eta * (Vdb_corrected/np.sqrt(Sdb_corrected + epsilon)) # SdW_corrected is standard deviation here\n",
        "  return W,b"
      ],
      "metadata": {
        "id": "PUmlXhwF_LzP"
      },
      "execution_count": null,
      "outputs": []
    },
    {
      "cell_type": "markdown",
      "source": [
        "# Update Parameters"
      ],
      "metadata": {
        "id": "b-uGgiF73inh"
      }
    },
    {
      "cell_type": "code",
      "source": [
        "def update_parameters(parameters, grads, LR = 1.2,beta=0,beta1=0,beta2=0,j=0,epsilon=0,VdW=0,SdW=0,Vdb=0,Sdb=0,rms=False,adam=False):\n",
        "\n",
        "    for i in range(len(parameters[\"W\"])):\n",
        "      if rms:\n",
        "          parameters[\"W\"][i],parameters[\"b\"][i]=RMS(beta,epsilon,j,parameters[\"W\"][i],parameters[\"b\"][i],grads['dW'][len(parameters[\"W\"])-1-i],grads['db'][len(parameters[\"W\"])-1-i],VdW[len(parameters[\"W\"])-1-i],Vdb[len(parameters[\"W\"])-1-i],LR)\n",
        "      if adam:\n",
        "          parameters[\"W\"][i],parameters[\"b\"][i]=Adam(beta1,beta2,j,epsilon,parameters[\"W\"][i],parameters[\"b\"][i],grads['dW'][len(parameters[\"W\"])-1-i],grads['db'][len(parameters[\"W\"])-1-i],VdW[len(parameters[\"W\"])-1-i],SdW[len(parameters[\"W\"])-1-i],Vdb[len(parameters[\"W\"])-1-i],Sdb[len(parameters[\"W\"])-1-i],LR)\n",
        "      else:\n",
        "\n",
        "        # last value stored in dW and db are the gradients for the first W and b, that's why we are using parameters[\"W\"])-1-i\n",
        "          parameters[\"W\"][i]=parameters[\"W\"][i]-LR * grads['dW'][len(parameters[\"W\"])-1-i]\n",
        "          parameters[\"b\"][i]=parameters[\"b\"][i]-LR * grads['db'][len(parameters[\"W\"])-1-i]\n",
        "\n",
        "    return parameters"
      ],
      "metadata": {
        "id": "lQ27uDYP6axp"
      },
      "execution_count": null,
      "outputs": []
    },
    {
      "cell_type": "markdown",
      "source": [
        "# Train_model Function"
      ],
      "metadata": {
        "id": "p4B6eZq5UEdg"
      }
    },
    {
      "cell_type": "code",
      "source": [
        "def train_model(X,y,batch_size,parameters,print_once,Tanh,Relu):\n",
        "    # applying forward propagation\n",
        "      cache=forward_propagation(X, parameters,Tanh,Relu)\n",
        "    # computing Error/Cost\n",
        "      cost=Error(cache['A'][-1].T,y)\n",
        "    # Computing gradients\n",
        "      grads=backward_propagation(parameters,cache,X,y,print_once,Tanh,Relu)\n",
        "      return cost,grads"
      ],
      "metadata": {
        "id": "Si0k44KJULQW"
      },
      "execution_count": null,
      "outputs": []
    },
    {
      "cell_type": "markdown",
      "metadata": {
        "id": "NI-lyVosGeBJ"
      },
      "source": [
        "# Test_model Function"
      ]
    },
    {
      "cell_type": "code",
      "execution_count": null,
      "metadata": {
        "id": "hcGYqrTRGit5"
      },
      "outputs": [],
      "source": [
        "# function to test on each model\n",
        "def test_model(parameters,X_test,y_test,Tanh=False,Relu=False):\n",
        "    y_pred=np.zeros((X_test.shape[0],y_test.shape[1]))\n",
        "    # calling forward propagation to make predictions\n",
        "    cache=forward_propagation(X_test,parameters,Tanh,Relu)\n",
        "    # using softmax on y_pred\n",
        "    y_pred=softmax(cache['A'][-1].T)\n",
        "    return Accuracy(y_pred,y_test)"
      ]
    },
    {
      "cell_type": "markdown",
      "source": [
        "# Neural Network"
      ],
      "metadata": {
        "id": "3qFmSu993mX2"
      }
    },
    {
      "cell_type": "code",
      "source": [
        "def NN(X, y,num_of_layers,size_of_layers,epochs,LR,Tanh=False,Relu=False,batch_size=X_train.shape[0],rms=False,adam=False):\n",
        "    L_sizes=layer_sizes(X,y,size_of_layers)\n",
        "    parameters=initialize_parameters(L_sizes)\n",
        "\n",
        "    print_once=True\n",
        "    for j in range(epochs):\n",
        "\n",
        "      num_batches=int(X.shape[0]/batch_size)\n",
        "      for i in range(num_batches):\n",
        "          if rms:\n",
        "              cost,grads=train_model(X[i*batch_size:batch_size*(i+1)],y[i*batch_size:batch_size*(i+1)],batch_size,parameters,print_once,Tanh,Relu)\n",
        "              print_once=False\n",
        "              beta,epsilon,VdW,Vdb = Initialize_RMS(0.9,10e-16,[0] * num_of_layers,[0] * num_of_layers)\n",
        "              parameters=update_parameters(parameters,grads,LR=LR,beta=beta,j=j,epsilon=epsilon,VdW=VdW,Vdb=Vdb,rms=True)\n",
        "\n",
        "          if adam:\n",
        "              cost,grads=train_model(X[i*batch_size:batch_size*(i+1)],y[i*batch_size:batch_size*(i+1)],batch_size,parameters,print_once,Tanh,Relu)\n",
        "              print_once=False\n",
        "              beta1,beta2,epsilon,VdW,SdW,Vdb,Sdb = Initialize_Adam(0.9,0.999,10e-16,[0] * num_of_layers,[0] * num_of_layers,[0] * num_of_layers,[0] * num_of_layers)\n",
        "              parameters=update_parameters(parameters,grads,LR=LR,beta1=beta1,beta2=beta2,j=j,epsilon=epsilon,VdW=VdW,SdW=SdW,Vdb=Vdb,Sdb=Sdb,adam=True)\n",
        "\n",
        "          else:\n",
        "\n",
        "              if i != num_batches-1:\n",
        "                cost,grads=train_model(X[i*batch_size:batch_size*(i+1)],y[i*batch_size:batch_size*(i+1)],batch_size,parameters,print_once,Tanh,Relu)\n",
        "                print_once=False\n",
        "              # Updating the parameters\n",
        "                parameters=update_parameters(parameters,grads,LR=LR)\n",
        "              else:\n",
        "                cost,grads=train_model(X[i*batch_size:batch_size*(i+1) + X.shape[0] % batch_size],y[i*batch_size:batch_size*(i+1) + X.shape[0] % batch_size],batch_size,parameters,print_once,Tanh,Relu)\n",
        "                print_once=False\n",
        "              # Updating the parameters\n",
        "                parameters=update_parameters(parameters,grads,LR=LR)\n",
        "\n",
        "      if j % 50 == 0:\n",
        "            print (\"Cost after iteration %i: %f\" %(j, cost))\n",
        "\n",
        "    return parameters"
      ],
      "metadata": {
        "id": "NahhQdtvUs2a"
      },
      "execution_count": null,
      "outputs": []
    },
    {
      "cell_type": "markdown",
      "source": [
        "# 1- Build NN with only 2 layers => 1 hidden layer and 1 output layer"
      ],
      "metadata": {
        "id": "uxqd3Nf3mANg"
      }
    },
    {
      "cell_type": "code",
      "source": [
        "parameters=NN(X_train, y_train,2,[20,10],150,1,batch_size=64)"
      ],
      "metadata": {
        "colab": {
          "base_uri": "https://localhost:8080/"
        },
        "id": "aniJdT_CLnxG",
        "outputId": "79b77920-783e-4164-eada-662cd06e603b"
      },
      "execution_count": null,
      "outputs": [
        {
          "output_type": "stream",
          "name": "stdout",
          "text": [
            "L ['layer 0', 'layer 1', 'layer 2']\n",
            "W [(20, 784), (10, 20)]\n",
            "b [(20, 1), (10, 1)]\n",
            "L ['layer 0', 'layer 1', 'layer 2']\n",
            "dW [(10, 20), (20, 784)]\n",
            "db [(10, 1), (20, 1)]\n",
            "Cost after iteration 0: 0.123601\n",
            "Cost after iteration 50: 0.035927\n",
            "Cost after iteration 100: 0.032713\n"
          ]
        }
      ]
    },
    {
      "cell_type": "code",
      "source": [
        "print(test_model(parameters,X_test,y_test))"
      ],
      "metadata": {
        "colab": {
          "base_uri": "https://localhost:8080/"
        },
        "id": "DNXdS-MpWBEZ",
        "outputId": "d9e01aac-aab1-4ed2-9c8c-9447a1ec82c7"
      },
      "execution_count": null,
      "outputs": [
        {
          "output_type": "stream",
          "name": "stdout",
          "text": [
            "94.1\n"
          ]
        }
      ]
    },
    {
      "cell_type": "code",
      "source": [
        "parameters=NN(X_train, y_train,2,[20,10],45,0.01,batch_size=512,rms=True)"
      ],
      "metadata": {
        "colab": {
          "base_uri": "https://localhost:8080/"
        },
        "id": "0q2_12buux_x",
        "outputId": "e26179ed-8d7d-4fb4-b154-dc9b1fd9245f"
      },
      "execution_count": null,
      "outputs": [
        {
          "output_type": "stream",
          "name": "stdout",
          "text": [
            "L ['layer 0', 'layer 1', 'layer 2']\n",
            "W [(20, 784), (10, 20)]\n",
            "b [(20, 1), (10, 1)]\n",
            "L ['layer 0', 'layer 1', 'layer 2']\n",
            "dW [(10, 20), (20, 784)]\n",
            "db [(10, 1), (20, 1)]\n",
            "Cost after iteration 0: 0.550745\n"
          ]
        }
      ]
    },
    {
      "cell_type": "code",
      "source": [
        "print(test_model(parameters,X_test,y_test))"
      ],
      "metadata": {
        "colab": {
          "base_uri": "https://localhost:8080/"
        },
        "id": "j5zOLIarvBa8",
        "outputId": "ba45b280-977e-4e91-9218-79716f743fb9"
      },
      "execution_count": null,
      "outputs": [
        {
          "output_type": "stream",
          "name": "stdout",
          "text": [
            "92.0\n"
          ]
        }
      ]
    },
    {
      "cell_type": "markdown",
      "source": [
        "## 2- Build NN with 3 layers=> 2 hidden layers Where no. of neurons in first layer < no. of neurons in second layer and 1 output layer"
      ],
      "metadata": {
        "id": "ZRuE6T3-mGuV"
      }
    },
    {
      "cell_type": "code",
      "source": [
        "parameters=NN(X_train, y_train,3,[20,40,10],45,1,batch_size=128)"
      ],
      "metadata": {
        "id": "IpvIBmllmJnh",
        "colab": {
          "base_uri": "https://localhost:8080/"
        },
        "outputId": "13e16255-a792-48e2-d3f2-48769bd13379"
      },
      "execution_count": null,
      "outputs": [
        {
          "output_type": "stream",
          "name": "stdout",
          "text": [
            "L ['layer 0', 'layer 1', 'layer 2', 'layer 3']\n",
            "W [(20, 784), (40, 20), (10, 40)]\n",
            "b [(20, 1), (40, 1), (10, 1)]\n",
            "L ['layer 0', 'layer 1', 'layer 2', 'layer 3']\n",
            "dW [(10, 40), (40, 20), (20, 784)]\n",
            "db [(10, 1), (40, 1), (20, 1)]\n",
            "Cost after iteration 0: 0.128769\n"
          ]
        }
      ]
    },
    {
      "cell_type": "code",
      "source": [
        "print(test_model(parameters,X_test,y_test))"
      ],
      "metadata": {
        "id": "IktSHnePm630",
        "colab": {
          "base_uri": "https://localhost:8080/"
        },
        "outputId": "5a773b93-aacd-49e1-aa32-5d92c620260a"
      },
      "execution_count": null,
      "outputs": [
        {
          "output_type": "stream",
          "name": "stdout",
          "text": [
            "94.8\n"
          ]
        }
      ]
    },
    {
      "cell_type": "code",
      "source": [
        "parameters=NN(X_train, y_train,3,[20,40,10],70,0.001,batch_size=512,rms=True)"
      ],
      "metadata": {
        "colab": {
          "base_uri": "https://localhost:8080/"
        },
        "id": "n_b4hPPATOYG",
        "outputId": "4cd7eaf6-c5e6-47b4-a957-12812c31fa38"
      },
      "execution_count": null,
      "outputs": [
        {
          "output_type": "stream",
          "name": "stdout",
          "text": [
            "L ['layer 0', 'layer 1', 'layer 2', 'layer 3']\n",
            "W [(20, 784), (40, 20), (10, 40)]\n",
            "b [(20, 1), (40, 1), (10, 1)]\n",
            "L ['layer 0', 'layer 1', 'layer 2', 'layer 3']\n",
            "dW [(10, 40), (40, 20), (20, 784)]\n",
            "db [(10, 1), (40, 1), (20, 1)]\n",
            "Cost after iteration 0: 0.960676\n",
            "Cost after iteration 50: 0.044095\n"
          ]
        }
      ]
    },
    {
      "cell_type": "code",
      "source": [
        "print(test_model(parameters,X_test,y_test))"
      ],
      "metadata": {
        "colab": {
          "base_uri": "https://localhost:8080/"
        },
        "id": "wlEuPxXPTSyG",
        "outputId": "38cc49c7-7ff8-422b-8bf7-6736afb38131"
      },
      "execution_count": null,
      "outputs": [
        {
          "output_type": "stream",
          "name": "stdout",
          "text": [
            "94.0\n"
          ]
        }
      ]
    },
    {
      "cell_type": "code",
      "source": [
        "parameters=NN(X_train, y_train,3,[20,40,10],15,0.0000000001,batch_size=64,adam=True)"
      ],
      "metadata": {
        "colab": {
          "base_uri": "https://localhost:8080/"
        },
        "id": "ZKWVI-mWXlp6",
        "outputId": "df08c855-0a8c-4687-db68-8e7d74b72563"
      },
      "execution_count": null,
      "outputs": [
        {
          "output_type": "stream",
          "name": "stdout",
          "text": [
            "L ['layer 0', 'layer 1', 'layer 2', 'layer 3']\n",
            "W [(20, 784), (40, 20), (10, 40)]\n",
            "b [(20, 1), (40, 1), (10, 1)]\n",
            "L ['layer 0', 'layer 1', 'layer 2', 'layer 3']\n",
            "dW [(10, 40), (40, 20), (20, 784)]\n",
            "db [(10, 1), (40, 1), (20, 1)]\n",
            "Cost after iteration 0: 0.120897\n"
          ]
        }
      ]
    },
    {
      "cell_type": "code",
      "source": [
        "print(test_model(parameters,X_test,y_test))"
      ],
      "metadata": {
        "colab": {
          "base_uri": "https://localhost:8080/"
        },
        "id": "PSm1PX3oXre1",
        "outputId": "508cac07-50e4-4025-ca82-b8f1dce4f8a9"
      },
      "execution_count": null,
      "outputs": [
        {
          "output_type": "stream",
          "name": "stdout",
          "text": [
            "89.4\n"
          ]
        }
      ]
    },
    {
      "cell_type": "markdown",
      "source": [
        "## 3- Build NN with 3 layers=> 2 hidden layers Where no. of neurons in first layer > no. of neurons in second layer"
      ],
      "metadata": {
        "id": "M-jweFKMm8tg"
      }
    },
    {
      "cell_type": "code",
      "source": [
        "parameters=NN(X_train, y_train,3,[30,15,10],40,2,batch_size=128)"
      ],
      "metadata": {
        "id": "Hwa_10kinL0j",
        "colab": {
          "base_uri": "https://localhost:8080/"
        },
        "outputId": "dbaee7b2-1eb2-4164-d5d1-eb5bfe1c70b5"
      },
      "execution_count": null,
      "outputs": [
        {
          "output_type": "stream",
          "name": "stdout",
          "text": [
            "L ['layer 0', 'layer 1', 'layer 2', 'layer 3']\n",
            "W [(30, 784), (15, 30), (10, 15)]\n",
            "b [(30, 1), (15, 1), (10, 1)]\n",
            "L ['layer 0', 'layer 1', 'layer 2', 'layer 3']\n",
            "dW [(10, 15), (15, 30), (30, 784)]\n",
            "db [(10, 1), (15, 1), (30, 1)]\n",
            "Cost after iteration 0: 0.108657\n"
          ]
        }
      ]
    },
    {
      "cell_type": "code",
      "source": [
        "print(test_model(parameters,X_test,y_test))"
      ],
      "metadata": {
        "id": "ou4eFZm6nZkq",
        "colab": {
          "base_uri": "https://localhost:8080/"
        },
        "outputId": "dec25962-3663-46ea-c3fd-68ee3a011491"
      },
      "execution_count": null,
      "outputs": [
        {
          "output_type": "stream",
          "name": "stdout",
          "text": [
            "94.7\n"
          ]
        }
      ]
    },
    {
      "cell_type": "code",
      "source": [
        "parameters=NN(X_train, y_train,3,[30,15,10],60,0.001,batch_size=512,rms=True)"
      ],
      "metadata": {
        "colab": {
          "base_uri": "https://localhost:8080/"
        },
        "id": "tMNm7w2KaR2h",
        "outputId": "f0829fbd-7f12-40fb-ff42-d28814f4d96a"
      },
      "execution_count": null,
      "outputs": [
        {
          "output_type": "stream",
          "name": "stdout",
          "text": [
            "L ['layer 0', 'layer 1', 'layer 2', 'layer 3']\n",
            "W [(30, 784), (15, 30), (10, 15)]\n",
            "b [(30, 1), (15, 1), (10, 1)]\n",
            "L ['layer 0', 'layer 1', 'layer 2', 'layer 3']\n",
            "dW [(10, 15), (15, 30), (30, 784)]\n",
            "db [(10, 1), (15, 1), (30, 1)]\n",
            "Cost after iteration 0: 1.000557\n",
            "Cost after iteration 50: 0.044402\n"
          ]
        }
      ]
    },
    {
      "cell_type": "code",
      "source": [
        "print(test_model(parameters,X_test,y_test))"
      ],
      "metadata": {
        "colab": {
          "base_uri": "https://localhost:8080/"
        },
        "id": "pZioLUjvaVkq",
        "outputId": "d9d76ca5-a566-4084-bafc-8a2957bb35f4"
      },
      "execution_count": null,
      "outputs": [
        {
          "output_type": "stream",
          "name": "stdout",
          "text": [
            "94.1\n"
          ]
        }
      ]
    },
    {
      "cell_type": "code",
      "source": [
        "parameters=NN(X_train, y_train,3,[30,15,10],15,0.000000001,batch_size=128,adam=True)"
      ],
      "metadata": {
        "colab": {
          "base_uri": "https://localhost:8080/"
        },
        "id": "eUtwtT4Fayqw",
        "outputId": "321f792d-f449-412e-afa6-8c1af83c83fa"
      },
      "execution_count": null,
      "outputs": [
        {
          "output_type": "stream",
          "name": "stdout",
          "text": [
            "L ['layer 0', 'layer 1', 'layer 2', 'layer 3']\n",
            "W [(30, 784), (15, 30), (10, 15)]\n",
            "b [(30, 1), (15, 1), (10, 1)]\n",
            "L ['layer 0', 'layer 1', 'layer 2', 'layer 3']\n",
            "dW [(10, 15), (15, 30), (30, 784)]\n",
            "db [(10, 1), (15, 1), (30, 1)]\n",
            "Cost after iteration 0: 0.104835\n"
          ]
        }
      ]
    },
    {
      "cell_type": "code",
      "source": [
        "print(test_model(parameters,X_test,y_test))"
      ],
      "metadata": {
        "colab": {
          "base_uri": "https://localhost:8080/"
        },
        "id": "cBiVGIbqbKpb",
        "outputId": "647925a0-2103-4708-b10b-ad846a4a5985"
      },
      "execution_count": null,
      "outputs": [
        {
          "output_type": "stream",
          "name": "stdout",
          "text": [
            "88.8\n"
          ]
        }
      ]
    },
    {
      "cell_type": "markdown",
      "source": [
        "# 1- Build NN_Relu with only 2 layers => 1 hidden layer and 1 output layer"
      ],
      "metadata": {
        "id": "K5n3ZL5NFb0s"
      }
    },
    {
      "cell_type": "code",
      "source": [
        "parameters=NN(X_train, y_train,2,[20,10],45,0.1,Relu=True,batch_size=128)"
      ],
      "metadata": {
        "colab": {
          "base_uri": "https://localhost:8080/"
        },
        "id": "PqHDy_mRFgX9",
        "outputId": "a8ffe4d7-0d2f-470a-c07d-d9b585c5bda6"
      },
      "execution_count": null,
      "outputs": [
        {
          "output_type": "stream",
          "name": "stdout",
          "text": [
            "L ['layer 0', 'layer 1', 'layer 2']\n",
            "W [(20, 784), (10, 20)]\n",
            "b [(20, 1), (10, 1)]\n",
            "L ['layer 0', 'layer 1', 'layer 2']\n",
            "dW [(10, 20), (20, 784)]\n",
            "db [(10, 1), (20, 1)]\n",
            "Cost after iteration 0: 0.261365\n"
          ]
        }
      ]
    },
    {
      "cell_type": "code",
      "source": [
        "print(test_model(parameters,X_test,y_test,Relu=True))"
      ],
      "metadata": {
        "colab": {
          "base_uri": "https://localhost:8080/"
        },
        "id": "0hOLiEdnFmrz",
        "outputId": "a34a6986-4cb3-4d9f-8842-f11d8484cfe3"
      },
      "execution_count": null,
      "outputs": [
        {
          "output_type": "stream",
          "name": "stdout",
          "text": [
            "82.5\n"
          ]
        }
      ]
    },
    {
      "cell_type": "code",
      "source": [
        "parameters=NN(X_train, y_train,2,[20,10],150,0.0001,Relu=True,batch_size=512,rms=True)"
      ],
      "metadata": {
        "colab": {
          "base_uri": "https://localhost:8080/"
        },
        "id": "VeLT9oIXFwAu",
        "outputId": "5364bf5d-832c-47ed-9536-5f5b741f7b9e"
      },
      "execution_count": null,
      "outputs": [
        {
          "output_type": "stream",
          "name": "stdout",
          "text": [
            "L ['layer 0', 'layer 1', 'layer 2']\n",
            "W [(20, 784), (10, 20)]\n",
            "b [(20, 1), (10, 1)]\n",
            "L ['layer 0', 'layer 1', 'layer 2']\n",
            "dW [(10, 20), (20, 784)]\n",
            "db [(10, 1), (20, 1)]\n",
            "Cost after iteration 0: 2.188263\n",
            "Cost after iteration 50: 0.145059\n",
            "Cost after iteration 100: 0.114676\n"
          ]
        }
      ]
    },
    {
      "cell_type": "code",
      "source": [
        "print(test_model(parameters,X_test,y_test,Relu=True))"
      ],
      "metadata": {
        "colab": {
          "base_uri": "https://localhost:8080/"
        },
        "id": "patJ0CbtFzH2",
        "outputId": "7cd1cc48-b6ca-49c0-f16d-25345686d78f"
      },
      "execution_count": null,
      "outputs": [
        {
          "output_type": "stream",
          "name": "stdout",
          "text": [
            "90.3\n"
          ]
        }
      ]
    },
    {
      "cell_type": "code",
      "source": [
        "parameters=NN(X_train, y_train,2,[20,10],50,0.000000001,Relu=True,batch_size=64,adam=True)"
      ],
      "metadata": {
        "id": "2gkfgap7F0Ri",
        "colab": {
          "base_uri": "https://localhost:8080/"
        },
        "outputId": "68771949-7dad-4ae5-93b2-932e8d099659"
      },
      "execution_count": null,
      "outputs": [
        {
          "output_type": "stream",
          "name": "stdout",
          "text": [
            "L ['layer 0', 'layer 1', 'layer 2']\n",
            "W [(20, 784), (10, 20)]\n",
            "b [(20, 1), (10, 1)]\n",
            "L ['layer 0', 'layer 1', 'layer 2']\n",
            "dW [(10, 20), (20, 784)]\n",
            "db [(10, 1), (20, 1)]\n",
            "Cost after iteration 0: 0.241703\n"
          ]
        }
      ]
    },
    {
      "cell_type": "code",
      "source": [
        "print(test_model(parameters,X_test,y_test,Relu=True))"
      ],
      "metadata": {
        "id": "smlhB8_nF49C",
        "colab": {
          "base_uri": "https://localhost:8080/"
        },
        "outputId": "f0680464-cf1c-4dd9-95e6-392099a52fda"
      },
      "execution_count": null,
      "outputs": [
        {
          "output_type": "stream",
          "name": "stdout",
          "text": [
            "82.8\n"
          ]
        }
      ]
    },
    {
      "cell_type": "markdown",
      "source": [
        "## 2- Build NN_Relu with 3 layers=> 2 hidden layers Where no. of neurons in first layer < no. of neurons in second layer and 1 output layer"
      ],
      "metadata": {
        "id": "j9EChzwmGA-U"
      }
    },
    {
      "cell_type": "code",
      "source": [
        "parameters=NN(X_train, y_train,3,[20,40,10],200,0.01,Relu=True,batch_size=256)"
      ],
      "metadata": {
        "id": "sJ6laIWNGDCv",
        "colab": {
          "base_uri": "https://localhost:8080/"
        },
        "outputId": "6c92bd9f-ed43-4959-ff83-2bbf64a8c095"
      },
      "execution_count": null,
      "outputs": [
        {
          "output_type": "stream",
          "name": "stdout",
          "text": [
            "L ['layer 0', 'layer 1', 'layer 2', 'layer 3']\n",
            "W [(20, 784), (40, 20), (10, 40)]\n",
            "b [(20, 1), (40, 1), (10, 1)]\n",
            "L ['layer 0', 'layer 1', 'layer 2', 'layer 3']\n",
            "dW [(10, 40), (40, 20), (20, 784)]\n",
            "db [(10, 1), (40, 1), (20, 1)]\n",
            "Cost after iteration 0: 0.378769\n",
            "Cost after iteration 50: 0.123022\n",
            "Cost after iteration 100: 0.128800\n",
            "Cost after iteration 150: 0.122798\n"
          ]
        }
      ]
    },
    {
      "cell_type": "code",
      "source": [
        "print(test_model(parameters,X_test,y_test,Relu=True))"
      ],
      "metadata": {
        "id": "natePeq5GJvm",
        "colab": {
          "base_uri": "https://localhost:8080/"
        },
        "outputId": "b29780ac-54f2-420c-a15b-c105d904e733"
      },
      "execution_count": null,
      "outputs": [
        {
          "output_type": "stream",
          "name": "stdout",
          "text": [
            "86.5\n"
          ]
        }
      ]
    },
    {
      "cell_type": "code",
      "source": [
        "parameters=NN(X_train, y_train,3,[20,40,10],150,0.0001,Relu=True,batch_size=256,rms=True)"
      ],
      "metadata": {
        "id": "qiLa2V38GK-V",
        "colab": {
          "base_uri": "https://localhost:8080/"
        },
        "outputId": "01d12ac7-8c7d-4e61-ec5a-ce55545d38e9"
      },
      "execution_count": null,
      "outputs": [
        {
          "output_type": "stream",
          "name": "stdout",
          "text": [
            "L ['layer 0', 'layer 1', 'layer 2', 'layer 3']\n",
            "W [(20, 784), (40, 20), (10, 40)]\n",
            "b [(20, 1), (40, 1), (10, 1)]\n",
            "L ['layer 0', 'layer 1', 'layer 2', 'layer 3']\n",
            "dW [(10, 40), (40, 20), (20, 784)]\n",
            "db [(10, 1), (40, 1), (20, 1)]\n",
            "Cost after iteration 0: 0.882353\n",
            "Cost after iteration 50: 0.162008\n",
            "Cost after iteration 100: 0.134591\n"
          ]
        }
      ]
    },
    {
      "cell_type": "code",
      "source": [
        "print(test_model(parameters,X_test,y_test,Relu=True))"
      ],
      "metadata": {
        "id": "niutXhY8GQoJ",
        "colab": {
          "base_uri": "https://localhost:8080/"
        },
        "outputId": "98b63434-e9a6-40e1-8263-da86504ff606"
      },
      "execution_count": null,
      "outputs": [
        {
          "output_type": "stream",
          "name": "stdout",
          "text": [
            "87.4\n"
          ]
        }
      ]
    },
    {
      "cell_type": "code",
      "source": [
        "parameters=NN(X_train, y_train,3,[20,40,10],50,0.000000001,Relu=True,batch_size=32,adam=True)"
      ],
      "metadata": {
        "id": "Wj07ADr7GRTy",
        "colab": {
          "base_uri": "https://localhost:8080/"
        },
        "outputId": "2139623f-7529-4169-94b2-bfbe3c59ce91"
      },
      "execution_count": null,
      "outputs": [
        {
          "output_type": "stream",
          "name": "stdout",
          "text": [
            "L ['layer 0', 'layer 1', 'layer 2', 'layer 3']\n",
            "W [(20, 784), (40, 20), (10, 40)]\n",
            "b [(20, 1), (40, 1), (10, 1)]\n",
            "L ['layer 0', 'layer 1', 'layer 2', 'layer 3']\n",
            "dW [(10, 40), (40, 20), (20, 784)]\n",
            "db [(10, 1), (40, 1), (20, 1)]\n",
            "Cost after iteration 0: 0.568830\n",
            "Cost after iteration 50: 0.345168\n"
          ]
        }
      ]
    },
    {
      "cell_type": "code",
      "source": [
        "print(test_model(parameters,X_test,y_test,Relu=True))"
      ],
      "metadata": {
        "id": "-f1YtAdgGWoc",
        "colab": {
          "base_uri": "https://localhost:8080/"
        },
        "outputId": "fb8962e0-f098-4224-af57-329aa1adbcd0"
      },
      "execution_count": null,
      "outputs": [
        {
          "output_type": "stream",
          "name": "stdout",
          "text": [
            "44.1\n"
          ]
        }
      ]
    },
    {
      "cell_type": "markdown",
      "source": [
        "## 3- Build NN_Relu with 3 layers=> 2 hidden layers Where no. of neurons in first layer > no. of neurons in second layer"
      ],
      "metadata": {
        "id": "9uKxkMaeGiZm"
      }
    },
    {
      "cell_type": "code",
      "source": [
        "parameters=NN(X_train, y_train,3,[30,15,10],200,0.001,Relu=True,batch_size=512)"
      ],
      "metadata": {
        "id": "TPClIntiGk44",
        "colab": {
          "base_uri": "https://localhost:8080/"
        },
        "outputId": "75371f68-a10e-48af-f9f6-4fd063966a4c"
      },
      "execution_count": null,
      "outputs": [
        {
          "output_type": "stream",
          "name": "stdout",
          "text": [
            "L ['layer 0', 'layer 1', 'layer 2', 'layer 3']\n",
            "W [(30, 784), (15, 30), (10, 15)]\n",
            "b [(30, 1), (15, 1), (10, 1)]\n",
            "L ['layer 0', 'layer 1', 'layer 2', 'layer 3']\n",
            "dW [(10, 15), (15, 30), (30, 784)]\n",
            "db [(10, 1), (15, 1), (30, 1)]\n",
            "Cost after iteration 0: 0.850199\n",
            "Cost after iteration 50: 0.250541\n",
            "Cost after iteration 100: 0.192944\n",
            "Cost after iteration 150: 0.165675\n"
          ]
        }
      ]
    },
    {
      "cell_type": "code",
      "source": [
        "print(test_model(parameters,X_test,y_test,Relu=True))"
      ],
      "metadata": {
        "id": "3zzO68q7GqI9",
        "colab": {
          "base_uri": "https://localhost:8080/"
        },
        "outputId": "0acdce07-feb7-4ba1-ac57-0b49117c3fbc"
      },
      "execution_count": null,
      "outputs": [
        {
          "output_type": "stream",
          "name": "stdout",
          "text": [
            "81.2\n"
          ]
        }
      ]
    },
    {
      "cell_type": "code",
      "source": [
        "parameters=NN(X_train, y_train,3,[30,15,10],200,0.0001,Relu=True,batch_size=256,rms=True)"
      ],
      "metadata": {
        "id": "o3ly6KngGrgO",
        "colab": {
          "base_uri": "https://localhost:8080/"
        },
        "outputId": "7481b1de-743e-4688-98bd-94ffca8c0f1b"
      },
      "execution_count": null,
      "outputs": [
        {
          "output_type": "stream",
          "name": "stdout",
          "text": [
            "L ['layer 0', 'layer 1', 'layer 2', 'layer 3']\n",
            "W [(30, 784), (15, 30), (10, 15)]\n",
            "b [(30, 1), (15, 1), (10, 1)]\n",
            "L ['layer 0', 'layer 1', 'layer 2', 'layer 3']\n",
            "dW [(10, 15), (15, 30), (30, 784)]\n",
            "db [(10, 1), (15, 1), (30, 1)]\n",
            "Cost after iteration 0: 0.966442\n",
            "Cost after iteration 50: 0.156761\n",
            "Cost after iteration 100: 0.138714\n",
            "Cost after iteration 150: 0.151520\n"
          ]
        }
      ]
    },
    {
      "cell_type": "code",
      "source": [
        "print(test_model(parameters,X_test,y_test,Relu=True))"
      ],
      "metadata": {
        "id": "PVgAc8veIBVv",
        "colab": {
          "base_uri": "https://localhost:8080/"
        },
        "outputId": "869e5b40-2b6b-4db7-ddb2-0ce7c661a77f"
      },
      "execution_count": null,
      "outputs": [
        {
          "output_type": "stream",
          "name": "stdout",
          "text": [
            "82.0\n"
          ]
        }
      ]
    },
    {
      "cell_type": "code",
      "source": [
        "parameters=NN(X_train, y_train,3,[30,15,10],50,0.000000001,Relu=True,batch_size=32,adam=True)"
      ],
      "metadata": {
        "id": "9RligqwrIIdc",
        "colab": {
          "base_uri": "https://localhost:8080/"
        },
        "outputId": "11e6e881-b267-4540-8d99-813677f61993"
      },
      "execution_count": null,
      "outputs": [
        {
          "output_type": "stream",
          "name": "stdout",
          "text": [
            "L ['layer 0', 'layer 1', 'layer 2', 'layer 3']\n",
            "W [(30, 784), (15, 30), (10, 15)]\n",
            "b [(30, 1), (15, 1), (10, 1)]\n",
            "L ['layer 0', 'layer 1', 'layer 2', 'layer 3']\n",
            "dW [(10, 15), (15, 30), (30, 784)]\n",
            "db [(10, 1), (15, 1), (30, 1)]\n",
            "Cost after iteration 0: 2.906250\n"
          ]
        }
      ]
    },
    {
      "cell_type": "code",
      "source": [
        "print(test_model(parameters,X_test,y_test,Relu=True))"
      ],
      "metadata": {
        "id": "YJ8kt5UhIJ52",
        "colab": {
          "base_uri": "https://localhost:8080/"
        },
        "outputId": "98e30e30-f6e7-4eaf-e692-9311faa11ad5"
      },
      "execution_count": null,
      "outputs": [
        {
          "output_type": "stream",
          "name": "stdout",
          "text": [
            "9.8\n"
          ]
        }
      ]
    },
    {
      "cell_type": "markdown",
      "source": [
        "# 1- Build NN_Tanh with only 2 layers => 1 hidden layer and 1 output layer"
      ],
      "metadata": {
        "id": "Vw8PkWjI1fP7"
      }
    },
    {
      "cell_type": "code",
      "source": [
        "parameters=NN(X_train, y_train,2,[20,10],200,0.5,Tanh=True,batch_size=256)"
      ],
      "metadata": {
        "id": "CkoAyNVp1lI4",
        "colab": {
          "base_uri": "https://localhost:8080/"
        },
        "outputId": "82e05c4f-2ad9-4c76-c37c-00c3bb6bd851"
      },
      "execution_count": null,
      "outputs": [
        {
          "output_type": "stream",
          "name": "stdout",
          "text": [
            "L ['layer 0', 'layer 1', 'layer 2']\n",
            "W [(20, 784), (10, 20)]\n",
            "b [(20, 1), (10, 1)]\n",
            "L ['layer 0', 'layer 1', 'layer 2']\n",
            "dW [(10, 20), (20, 784)]\n",
            "db [(10, 1), (20, 1)]\n",
            "Cost after iteration 0: 0.217704\n",
            "Cost after iteration 50: 0.064367\n",
            "Cost after iteration 100: 0.058978\n",
            "Cost after iteration 150: 0.055586\n"
          ]
        }
      ]
    },
    {
      "cell_type": "code",
      "source": [
        "print(test_model(parameters,X_test,y_test,Tanh=True))"
      ],
      "metadata": {
        "id": "iXNqHiZt1r74",
        "colab": {
          "base_uri": "https://localhost:8080/"
        },
        "outputId": "de5e1345-243f-451c-ec0b-080f02d630a6"
      },
      "execution_count": null,
      "outputs": [
        {
          "output_type": "stream",
          "name": "stdout",
          "text": [
            "92.4\n"
          ]
        }
      ]
    },
    {
      "cell_type": "code",
      "source": [
        "parameters=NN(X_train, y_train,2,[20,10],200,0.0001,Tanh=True,batch_size=256,rms=True)"
      ],
      "metadata": {
        "id": "yFqLCxS5bsp2",
        "colab": {
          "base_uri": "https://localhost:8080/"
        },
        "outputId": "bd2bb11a-2380-4a8e-a885-9d122d1a4c4c"
      },
      "execution_count": null,
      "outputs": [
        {
          "output_type": "stream",
          "name": "stdout",
          "text": [
            "L ['layer 0', 'layer 1', 'layer 2']\n",
            "W [(20, 784), (10, 20)]\n",
            "b [(20, 1), (10, 1)]\n",
            "L ['layer 0', 'layer 1', 'layer 2']\n",
            "dW [(10, 20), (20, 784)]\n",
            "db [(10, 1), (20, 1)]\n",
            "Cost after iteration 0: 1.945170\n",
            "Cost after iteration 50: 0.122017\n",
            "Cost after iteration 100: 0.086768\n",
            "Cost after iteration 150: 0.081008\n"
          ]
        }
      ]
    },
    {
      "cell_type": "code",
      "source": [
        "print(test_model(parameters,X_test,y_test,Tanh=True))"
      ],
      "metadata": {
        "id": "uinqH9MjbwP1",
        "colab": {
          "base_uri": "https://localhost:8080/"
        },
        "outputId": "27d2b061-55e6-45e8-e557-4c57ab6e3f55"
      },
      "execution_count": null,
      "outputs": [
        {
          "output_type": "stream",
          "name": "stdout",
          "text": [
            "91.2\n"
          ]
        }
      ]
    },
    {
      "cell_type": "code",
      "source": [
        "parameters=NN(X_train, y_train,2,[20,10],50,0.000000001,Tanh=True,batch_size=32,adam=True)"
      ],
      "metadata": {
        "id": "Sa-glQk3gQzM",
        "colab": {
          "base_uri": "https://localhost:8080/"
        },
        "outputId": "d9120c4d-c9fe-4603-f0d0-642ca90ab62c"
      },
      "execution_count": null,
      "outputs": [
        {
          "output_type": "stream",
          "name": "stdout",
          "text": [
            "L ['layer 0', 'layer 1', 'layer 2']\n",
            "W [(20, 784), (10, 20)]\n",
            "b [(20, 1), (10, 1)]\n",
            "L ['layer 0', 'layer 1', 'layer 2']\n",
            "dW [(10, 20), (20, 784)]\n",
            "db [(10, 1), (20, 1)]\n",
            "Cost after iteration 0: 0.114071\n"
          ]
        }
      ]
    },
    {
      "cell_type": "code",
      "source": [
        "print(test_model(parameters,X_test,y_test,Tanh=True))"
      ],
      "metadata": {
        "id": "X7KwQLzggSuB",
        "colab": {
          "base_uri": "https://localhost:8080/"
        },
        "outputId": "f699c63e-1ce0-4190-96fb-ebaf790c979a"
      },
      "execution_count": null,
      "outputs": [
        {
          "output_type": "stream",
          "name": "stdout",
          "text": [
            "86.4\n"
          ]
        }
      ]
    },
    {
      "cell_type": "markdown",
      "source": [
        "## 2- Build NN_Tanh with 3 layers=> 2 hidden layers Where no. of neurons in first layer < no. of neurons in second layer and 1 output layer"
      ],
      "metadata": {
        "id": "9JZASlpC1zON"
      }
    },
    {
      "cell_type": "code",
      "source": [
        "parameters=NN(X_train, y_train,3,[20,40,10],100,0.5,Tanh=True,batch_size=256)"
      ],
      "metadata": {
        "id": "IswPUrn912xX",
        "colab": {
          "base_uri": "https://localhost:8080/"
        },
        "outputId": "f87016a3-6530-41e6-f7f9-601f65e954f4"
      },
      "execution_count": null,
      "outputs": [
        {
          "output_type": "stream",
          "name": "stdout",
          "text": [
            "L ['layer 0', 'layer 1', 'layer 2', 'layer 3']\n",
            "W [(20, 784), (40, 20), (10, 40)]\n",
            "b [(20, 1), (40, 1), (10, 1)]\n",
            "L ['layer 0', 'layer 1', 'layer 2', 'layer 3']\n",
            "dW [(10, 40), (40, 20), (20, 784)]\n",
            "db [(10, 1), (40, 1), (20, 1)]\n",
            "Cost after iteration 0: 0.243057\n",
            "Cost after iteration 50: 0.060044\n"
          ]
        }
      ]
    },
    {
      "cell_type": "code",
      "source": [
        "print(test_model(parameters,X_test,y_test,Tanh=True))"
      ],
      "metadata": {
        "id": "KshrJbK617X0",
        "colab": {
          "base_uri": "https://localhost:8080/"
        },
        "outputId": "c5327d19-d378-472e-e619-b5ad74c19149"
      },
      "execution_count": null,
      "outputs": [
        {
          "output_type": "stream",
          "name": "stdout",
          "text": [
            "91.1\n"
          ]
        }
      ]
    },
    {
      "cell_type": "code",
      "source": [
        "parameters=NN(X_train, y_train,3,[20,40,10],200,0.0001,Tanh=True,batch_size=256,rms=True)"
      ],
      "metadata": {
        "id": "FopE_sMdjIdt",
        "colab": {
          "base_uri": "https://localhost:8080/"
        },
        "outputId": "d45e8470-3633-4df4-fd7b-67ee80f4039f"
      },
      "execution_count": null,
      "outputs": [
        {
          "output_type": "stream",
          "name": "stdout",
          "text": [
            "L ['layer 0', 'layer 1', 'layer 2', 'layer 3']\n",
            "W [(20, 784), (40, 20), (10, 40)]\n",
            "b [(20, 1), (40, 1), (10, 1)]\n",
            "L ['layer 0', 'layer 1', 'layer 2', 'layer 3']\n",
            "dW [(10, 40), (40, 20), (20, 784)]\n",
            "db [(10, 1), (40, 1), (20, 1)]\n",
            "Cost after iteration 0: 2.107043\n",
            "Cost after iteration 50: 0.135050\n",
            "Cost after iteration 100: 0.087318\n",
            "Cost after iteration 150: 0.082539\n"
          ]
        }
      ]
    },
    {
      "cell_type": "code",
      "source": [
        "print(test_model(parameters,X_test,y_test,Tanh=True))"
      ],
      "metadata": {
        "id": "bMB5f-pTjNH9",
        "colab": {
          "base_uri": "https://localhost:8080/"
        },
        "outputId": "accbbfbf-b12f-4de1-f662-f587d91a5a2b"
      },
      "execution_count": null,
      "outputs": [
        {
          "output_type": "stream",
          "name": "stdout",
          "text": [
            "91.0\n"
          ]
        }
      ]
    },
    {
      "cell_type": "code",
      "source": [
        "parameters=NN(X_train, y_train,3,[20,40,10],50,0.000000001,Tanh=True,batch_size=32,adam=True)"
      ],
      "metadata": {
        "id": "L-QTZp8GjluD",
        "colab": {
          "base_uri": "https://localhost:8080/"
        },
        "outputId": "46090665-bc38-44b1-bbce-369bdedefbaf"
      },
      "execution_count": null,
      "outputs": [
        {
          "output_type": "stream",
          "name": "stdout",
          "text": [
            "L ['layer 0', 'layer 1', 'layer 2', 'layer 3']\n",
            "W [(20, 784), (40, 20), (10, 40)]\n",
            "b [(20, 1), (40, 1), (10, 1)]\n",
            "L ['layer 0', 'layer 1', 'layer 2', 'layer 3']\n",
            "dW [(10, 40), (40, 20), (20, 784)]\n",
            "db [(10, 1), (40, 1), (20, 1)]\n",
            "Cost after iteration 0: 0.141097\n"
          ]
        }
      ]
    },
    {
      "cell_type": "code",
      "source": [
        "print(test_model(parameters,X_test,y_test,Tanh=True))"
      ],
      "metadata": {
        "id": "X_CyP7ACjwqC",
        "colab": {
          "base_uri": "https://localhost:8080/"
        },
        "outputId": "16a72861-5c15-4bdb-c332-f810a82a606a"
      },
      "execution_count": null,
      "outputs": [
        {
          "output_type": "stream",
          "name": "stdout",
          "text": [
            "76.1\n"
          ]
        }
      ]
    },
    {
      "cell_type": "markdown",
      "source": [
        "## 3- Build NN_Tanh with 3 layers=> 2 hidden layers Where no. of neurons in first layer > no. of neurons in second layer"
      ],
      "metadata": {
        "id": "QaRRE3U71-3k"
      }
    },
    {
      "cell_type": "code",
      "source": [
        "parameters=NN(X_train, y_train,3,[30,15,10],100,0.5,Tanh=True,batch_size=256)"
      ],
      "metadata": {
        "id": "Oq0dSTPD2LSL",
        "colab": {
          "base_uri": "https://localhost:8080/"
        },
        "outputId": "395195ec-0ef6-4b17-eca5-08e0756edb2f"
      },
      "execution_count": null,
      "outputs": [
        {
          "output_type": "stream",
          "name": "stdout",
          "text": [
            "L ['layer 0', 'layer 1', 'layer 2', 'layer 3']\n",
            "W [(30, 784), (15, 30), (10, 15)]\n",
            "b [(30, 1), (15, 1), (10, 1)]\n",
            "L ['layer 0', 'layer 1', 'layer 2', 'layer 3']\n",
            "dW [(10, 15), (15, 30), (30, 784)]\n",
            "db [(10, 1), (15, 1), (30, 1)]\n",
            "Cost after iteration 0: 0.261390\n",
            "Cost after iteration 50: 0.055958\n"
          ]
        }
      ]
    },
    {
      "cell_type": "code",
      "source": [
        "print(test_model(parameters,X_test,y_test,Tanh=True))"
      ],
      "metadata": {
        "id": "1bESturh2DfH",
        "colab": {
          "base_uri": "https://localhost:8080/"
        },
        "outputId": "d3ad164e-7c54-4bd7-fe34-72a4e509cc06"
      },
      "execution_count": null,
      "outputs": [
        {
          "output_type": "stream",
          "name": "stdout",
          "text": [
            "92.5\n"
          ]
        }
      ]
    },
    {
      "cell_type": "code",
      "source": [
        "parameters=NN(X_train, y_train,3,[30,15,10],140,0.0001,Tanh=True,batch_size=256,rms=True)"
      ],
      "metadata": {
        "id": "-nKYUrzqlpM6",
        "colab": {
          "base_uri": "https://localhost:8080/"
        },
        "outputId": "a4ce361a-ec1c-4890-b4f8-6a15c5446043"
      },
      "execution_count": null,
      "outputs": [
        {
          "output_type": "stream",
          "name": "stdout",
          "text": [
            "L ['layer 0', 'layer 1', 'layer 2', 'layer 3']\n",
            "W [(30, 784), (15, 30), (10, 15)]\n",
            "b [(30, 1), (15, 1), (10, 1)]\n",
            "L ['layer 0', 'layer 1', 'layer 2', 'layer 3']\n",
            "dW [(10, 15), (15, 30), (30, 784)]\n",
            "db [(10, 1), (15, 1), (30, 1)]\n",
            "Cost after iteration 0: 2.212261\n",
            "Cost after iteration 50: 0.114223\n",
            "Cost after iteration 100: 0.083871\n"
          ]
        }
      ]
    },
    {
      "cell_type": "code",
      "source": [
        "print(test_model(parameters,X_test,y_test,Tanh=True))"
      ],
      "metadata": {
        "id": "lhpmM3AXmQR2",
        "colab": {
          "base_uri": "https://localhost:8080/"
        },
        "outputId": "9284b273-a4d7-44f4-c34e-bf36ee360c1c"
      },
      "execution_count": null,
      "outputs": [
        {
          "output_type": "stream",
          "name": "stdout",
          "text": [
            "91.3\n"
          ]
        }
      ]
    },
    {
      "cell_type": "code",
      "source": [
        "parameters=NN(X_train, y_train,3,[30,15,10],50,0.000000001,Tanh=True,batch_size=32,adam=True)"
      ],
      "metadata": {
        "id": "RiDMX4-amWXK",
        "colab": {
          "base_uri": "https://localhost:8080/"
        },
        "outputId": "1012f191-e1ec-4b0f-85f2-1cff394b027b"
      },
      "execution_count": null,
      "outputs": [
        {
          "output_type": "stream",
          "name": "stdout",
          "text": [
            "L ['layer 0', 'layer 1', 'layer 2', 'layer 3']\n",
            "W [(30, 784), (15, 30), (10, 15)]\n",
            "b [(30, 1), (15, 1), (10, 1)]\n",
            "L ['layer 0', 'layer 1', 'layer 2', 'layer 3']\n",
            "dW [(10, 15), (15, 30), (30, 784)]\n",
            "db [(10, 1), (15, 1), (30, 1)]\n",
            "Cost after iteration 0: 0.136820\n"
          ]
        }
      ]
    },
    {
      "cell_type": "code",
      "source": [
        "print(test_model(parameters,X_test,y_test,Tanh=True))"
      ],
      "metadata": {
        "id": "vE6frNVhmg59",
        "colab": {
          "base_uri": "https://localhost:8080/"
        },
        "outputId": "9003a33d-ac9a-4ee7-b0b5-b71d0729ffd2"
      },
      "execution_count": null,
      "outputs": [
        {
          "output_type": "stream",
          "name": "stdout",
          "text": [
            "86.1\n"
          ]
        }
      ]
    }
  ],
  "metadata": {
    "accelerator": "GPU",
    "colab": {
      "provenance": [],
      "include_colab_link": true
    },
    "gpuClass": "standard",
    "kernelspec": {
      "display_name": "Python 3",
      "name": "python3"
    },
    "language_info": {
      "name": "python"
    }
  },
  "nbformat": 4,
  "nbformat_minor": 0
}